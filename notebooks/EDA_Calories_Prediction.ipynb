{
 "cells": [
  {
   "cell_type": "markdown",
   "id": "711af222",
   "metadata": {},
   "source": [
    "# 🧠 Exploratory Data Analysis: Calories Burnt Prediction\n",
    "This notebook performs EDA on the dataset to explore patterns and trends related to calorie expenditure during workouts."
   ]
  },
  {
   "cell_type": "code",
   "execution_count": null,
   "id": "efa27dec",
   "metadata": {},
   "outputs": [],
   "source": [
    "import pandas as pd\n",
    "import matplotlib.pyplot as plt\n",
    "import seaborn as sns\n",
    "sns.set(style='whitegrid')"
   ]
  },
  {
   "cell_type": "markdown",
   "id": "e396c459",
   "metadata": {},
   "source": [
    "## 📥 Load Dataset"
   ]
  },
  {
   "cell_type": "code",
   "execution_count": null,
   "id": "0f9c9418",
   "metadata": {},
   "outputs": [],
   "source": [
    "calories_df = pd.read_csv('data/calories.csv')\n",
    "calories_df.head()"
   ]
  },
  {
   "cell_type": "markdown",
   "id": "8f98bc27",
   "metadata": {},
   "source": [
    "## 🔍 Initial Inspection"
   ]
  },
  {
   "cell_type": "code",
   "execution_count": null,
   "id": "a4114db3",
   "metadata": {},
   "outputs": [],
   "source": [
    "calories_df.info()\n",
    "calories_df.isnull().sum()"
   ]
  },
  {
   "cell_type": "markdown",
   "id": "3ba59eb5",
   "metadata": {},
   "source": [
    "## 📊 Feature Distributions"
   ]
  },
  {
   "cell_type": "code",
   "execution_count": null,
   "id": "3bca9a96",
   "metadata": {},
   "outputs": [],
   "source": [
    "numeric_cols = ['Age', 'Height', 'Weight', 'Duration', 'Heart_Rate', 'Body_Temp', 'Calories']\n",
    "fig, axes = plt.subplots(nrows=3, ncols=3, figsize=(16, 12))\n",
    "axes = axes.flatten()\n",
    "for i, col in enumerate(numeric_cols):\n",
    "    sns.histplot(calories_df[col], kde=True, ax=axes[i], color='skyblue')\n",
    "    axes[i].set_title(f'Distribution of {col}')\n",
    "    axes[i].set_xlabel(col)\n",
    "    axes[i].set_ylabel('Frequency')\n",
    "for j in range(len(numeric_cols), len(axes)):\n",
    "    fig.delaxes(axes[j])\n",
    "plt.tight_layout()\n",
    "plt.show()"
   ]
  },
  {
   "cell_type": "markdown",
   "id": "651f8be6",
   "metadata": {},
   "source": [
    "## 📉 Scatter Plots: Features vs Calories"
   ]
  },
  {
   "cell_type": "code",
   "execution_count": null,
   "id": "7531eb93",
   "metadata": {},
   "outputs": [],
   "source": [
    "fig, axes = plt.subplots(2, 3, figsize=(18, 10))\n",
    "axes = axes.flatten()\n",
    "features = ['Age', 'Weight', 'Duration', 'Heart_Rate', 'Body_Temp', 'Height']\n",
    "for i, col in enumerate(features):\n",
    "    sns.scatterplot(data=calories_df, x=col, y='Calories', ax=axes[i], color='orange')\n",
    "    axes[i].set_title(f'{col} vs Calories')\n",
    "plt.tight_layout()\n",
    "plt.show()"
   ]
  },
  {
   "cell_type": "markdown",
   "id": "8172966c",
   "metadata": {},
   "source": [
    "## 🔥 Correlation Heatmap"
   ]
  },
  {
   "cell_type": "code",
   "execution_count": null,
   "id": "861dee5c",
   "metadata": {},
   "outputs": [],
   "source": [
    "corr_matrix = calories_df.corr(numeric_only=True)\n",
    "plt.figure(figsize=(10, 6))\n",
    "sns.heatmap(corr_matrix, annot=True, cmap='coolwarm', linewidths=0.5)\n",
    "plt.title('Correlation Heatmap')\n",
    "plt.show()"
   ]
  },
  {
   "cell_type": "markdown",
   "id": "858c01c8",
   "metadata": {},
   "source": [
    "## 📌 Summary of EDA Findings\n",
    "- Dataset is complete with no missing values.\n",
    "- Strong positive correlation between Calories and Duration, Heart Rate, Body Temp.\n",
    "- Weak correlation with Age and Height.\n",
    "- Visualizations confirm meaningful patterns useful for model training."
   ]
  }
 ],
 "metadata": {
  "kernelspec": {
   "display_name": ".venv",
   "language": "python",
   "name": "python3"
  },
  "language_info": {
   "name": "python",
   "version": "3.11.9"
  }
 },
 "nbformat": 4,
 "nbformat_minor": 5
}
